{
 "cells": [
  {
   "cell_type": "markdown",
   "id": "ac87c831",
   "metadata": {},
   "source": [
    "# (Exploration de Loan Data from Prosper )\n",
    "## par (Magagi Ali Bachir)\n",
    "\n",
    "> Il s'agit du dataset qui s'appelle clean_data de 15 variables (colonnes) et 84853 enregistrements (lignes). Les variables, reparties entre numeric et categorielles, sont les suivantes: ListingCreationDate,Term, LoanStatus, BorrowerAPR, BorrowerRate, ProsperRating (numeric), ProsperRating (Alpha),\tListingCategory (numeric), EmploymentStatus, DelinquenciesLast7Years, StatedMonthlyIncome, LoanOriginalAmount, LoanOriginationDate, Recommendations, Investors. Plus de details sur les variables <a href=\"https://docs.google.com/spreadsheets/d/1gDyi_L4UvIrLTEC6Wri5nbaMmkGmLQBk-Yx3z0XDEtI/edit#gid=0\">Ici</a>\n",
    "\n",
    "## Résumé des conclusions\n",
    "\n",
    "> - Dans la plus part des cas les prêt n'ont besoin d'aucune recommandation pour être octoyés.\n",
    "> - Durant les 7 dernières années peu d'empreunteurs on enregistré des defauts de payements.\n",
    "> - Le mois de janvier présente la plus grande fréquence des prêts suivi de décembre puis octobre ensuite novembre.\n",
    "> - L'ecrasante majorité des prêts ont un seul investiseur et aucun prêt n'a plus de 618 investisseurs.\n",
    "> - Les employés detiennent les grande partie des prêts courants. \n",
    "> - Le travailleur à temps plein ont une grande fréquence de remboursement.\n",
    "> - Pour la durée de 36 mois le taux de prospérité de type A semble être le mieux représenté avec une domination du status de prêt Current suivie de compled.\n",
    "> - Pour la durée de 60 mois le taux de prospérité de type C présente le pick le plus élevé pour le status de prêt de type Current et completed.\n",
    "> - Pour la durée de 12, qui est la moins représente, on constate plutôt une repartition équitable entre les fréquente des prêts type Current pour les différents types de taux.\n",
    "\n",
    "## Informations clés pour la présentation\n",
    "\n",
    "> Pour la présentation j'ai pour les graphique qui mettent en opposition les status du prêt avec les autres variables."
   ]
  }
 ],
 "metadata": {
  "kernelspec": {
   "display_name": "Python [conda env:prem] *",
   "language": "python",
   "name": "conda-env-prem-py"
  },
  "language_info": {
   "codemirror_mode": {
    "name": "ipython",
    "version": 3
   },
   "file_extension": ".py",
   "mimetype": "text/x-python",
   "name": "python",
   "nbconvert_exporter": "python",
   "pygments_lexer": "ipython3",
   "version": "3.8.13"
  }
 },
 "nbformat": 4,
 "nbformat_minor": 5
}
